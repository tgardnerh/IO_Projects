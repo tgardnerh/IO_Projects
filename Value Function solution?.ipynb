{
 "cells": [
  {
   "cell_type": "code",
   "execution_count": 4,
   "metadata": {},
   "outputs": [],
   "source": [
    "from sympy import *\n",
    "init_printing()\n",
    "\n"
   ]
  },
  {
   "cell_type": "code",
   "execution_count": 53,
   "metadata": {},
   "outputs": [],
   "source": [
    "p ,cstar, B , EV1, x = symbols('p, c, B , EV1, x')\n"
   ]
  },
  {
   "cell_type": "code",
   "execution_count": 57,
   "metadata": {},
   "outputs": [
    {
     "data": {
      "image/png": "[encoded data removed]",
      "text/latex": [
       "$$\\frac{0.125 B \\left(- c + 1\\right) - \\frac{c^{2}}{2} + c p}{- B^{2} \\left(- c + 1\\right) - B c + 1}$$"
      ],
      "text/plain": [
       "                    2      \n",
       "                   c       \n",
       "0.125⋅B⋅(-c + 1) - ── + c⋅p\n",
       "                   2       \n",
       "───────────────────────────\n",
       "     2                     \n",
       "  - B ⋅(-c + 1) - B⋅c + 1  "
      ]
     },
     "execution_count": 57,
     "metadata": {},
     "output_type": "execute_result"
    }
   ],
   "source": [
    "EV1 = (cstar*p - cstar ** 2 / 2+(1-cstar)* B *.125)/(1-cstar*B - (1-cstar)*B**2)\n",
    "EV1"
   ]
  },
  {
   "cell_type": "code",
   "execution_count": 59,
   "metadata": {},
   "outputs": [
    {
     "data": {
      "image/png": "[encoded data removed]",
      "text/latex": [
       "$$\\frac{- c + p - 0.11875}{- 0.0475 c + 0.0975} + \\frac{0.0475}{\\left(- 0.0475 c + 0.0975\\right)^{2}} \\left(- \\frac{c^{2}}{2} + c p - 0.11875 c + 0.11875\\right) = 0$$"
      ],
      "text/plain": [
       "                            ⎛   2                            ⎞    \n",
       "                            ⎜  c                             ⎟    \n",
       "                     0.0475⋅⎜- ── + c⋅p - 0.11875⋅c + 0.11875⎟    \n",
       " -c + p - 0.11875           ⎝  2                             ⎠    \n",
       "────────────────── + ───────────────────────────────────────── = 0\n",
       "-0.0475⋅c + 0.0975                                 2              \n",
       "                               (-0.0475⋅c + 0.0975)               "
      ]
     },
     "execution_count": 59,
     "metadata": {},
     "output_type": "execute_result"
    }
   ],
   "source": [
    "EV1 = EV1.subs(B, .95)\n",
    "FOC = Eq(diff(EV1, cstar), 0)\n",
    "FOC\n"
   ]
  },
  {
   "cell_type": "code",
   "execution_count": 72,
   "metadata": {},
   "outputs": [
    {
     "data": {
      "image/png": "[encoded data removed]",
      "text/latex": [
       "$$\\mathbb{R} \\cap \\left\\{- 21.0526315789474 \\sqrt{- 0.0092625 p + 0.0100703125} + 2.05263157894737, 21.0526315789474 \\sqrt{- 0.0092625 p + 0.0100703125} + 2.05263157894737\\right\\} \\setminus \\left\\{2.05263157894737\\right\\}$$"
      ],
      "text/plain": [
       "⎛    ⎧                     _____________________________                      \n",
       "⎜ℝ ∩ ⎨- 21.0526315789474⋅╲╱ -0.0092625⋅p + 0.0100703125  + 2.05263157894737, 2\n",
       "⎝    ⎩                                                                        \n",
       "\n",
       "                  _____________________________                   ⎫⎞          \n",
       "1.0526315789474⋅╲╱ -0.0092625⋅p + 0.0100703125  + 2.05263157894737⎬⎟ \\ {2.0526\n",
       "                                                                  ⎭⎠          \n",
       "\n",
       "           \n",
       "3157894737}\n",
       "           "
      ]
     },
     "execution_count": 72,
     "metadata": {},
     "output_type": "execute_result"
    }
   ],
   "source": [
    "equilibrium = solveset(FOC, cstar,  domain=S.Reals)\n",
    "equilibrium\n"
   ]
  },
  {
   "cell_type": "code",
   "execution_count": 73,
   "metadata": {},
   "outputs": [
    {
     "ename": "TypeError",
     "evalue": "'NoneType' object is not iterable",
     "output_type": "error",
     "traceback": [
      "\u001b[0;31m---------------------------------------------------------------------------\u001b[0m",
      "\u001b[0;31mTypeError\u001b[0m                                 Traceback (most recent call last)",
      "\u001b[0;32m<ipython-input-73-650d19272b7c>\u001b[0m in \u001b[0;36m<module>\u001b[0;34m()\u001b[0m\n\u001b[0;32m----> 1\u001b[0;31m \u001b[0mplot\u001b[0m\u001b[0;34m(\u001b[0m\u001b[0mequilibrium\u001b[0m\u001b[0;34m,\u001b[0m \u001b[0;34m(\u001b[0m\u001b[0mp\u001b[0m\u001b[0;34m,\u001b[0m \u001b[0;36m0\u001b[0m\u001b[0;34m,\u001b[0m \u001b[0;36m1\u001b[0m\u001b[0;34m)\u001b[0m\u001b[0;34m)\u001b[0m\u001b[0;34m\u001b[0m\u001b[0m\n\u001b[0m",
      "\u001b[0;32m~/anaconda3/lib/python3.6/site-packages/sympy/plotting/plot.py\u001b[0m in \u001b[0;36mplot\u001b[0;34m(*args, **kwargs)\u001b[0m\n\u001b[1;32m   1289\u001b[0m     \u001b[0mseries\u001b[0m \u001b[0;34m=\u001b[0m \u001b[0;34m[\u001b[0m\u001b[0;34m]\u001b[0m\u001b[0;34m\u001b[0m\u001b[0m\n\u001b[1;32m   1290\u001b[0m     \u001b[0mplot_expr\u001b[0m \u001b[0;34m=\u001b[0m \u001b[0mcheck_arguments\u001b[0m\u001b[0;34m(\u001b[0m\u001b[0margs\u001b[0m\u001b[0;34m,\u001b[0m \u001b[0;36m1\u001b[0m\u001b[0;34m,\u001b[0m \u001b[0;36m1\u001b[0m\u001b[0;34m)\u001b[0m\u001b[0;34m\u001b[0m\u001b[0m\n\u001b[0;32m-> 1291\u001b[0;31m     \u001b[0mseries\u001b[0m \u001b[0;34m=\u001b[0m \u001b[0;34m[\u001b[0m\u001b[0mLineOver1DRangeSeries\u001b[0m\u001b[0;34m(\u001b[0m\u001b[0;34m*\u001b[0m\u001b[0marg\u001b[0m\u001b[0;34m,\u001b[0m \u001b[0;34m**\u001b[0m\u001b[0mkwargs\u001b[0m\u001b[0;34m)\u001b[0m \u001b[0;32mfor\u001b[0m \u001b[0marg\u001b[0m \u001b[0;32min\u001b[0m \u001b[0mplot_expr\u001b[0m\u001b[0;34m]\u001b[0m\u001b[0;34m\u001b[0m\u001b[0m\n\u001b[0m\u001b[1;32m   1292\u001b[0m \u001b[0;34m\u001b[0m\u001b[0m\n\u001b[1;32m   1293\u001b[0m     \u001b[0mplots\u001b[0m \u001b[0;34m=\u001b[0m \u001b[0mPlot\u001b[0m\u001b[0;34m(\u001b[0m\u001b[0;34m*\u001b[0m\u001b[0mseries\u001b[0m\u001b[0;34m,\u001b[0m \u001b[0;34m**\u001b[0m\u001b[0mkwargs\u001b[0m\u001b[0;34m)\u001b[0m\u001b[0;34m\u001b[0m\u001b[0m\n",
      "\u001b[0;31mTypeError\u001b[0m: 'NoneType' object is not iterable"
     ]
    }
   ],
   "source": [
    "plot(equilibrium, (p, 0, 1))"
   ]
  },
  {
   "cell_type": "code",
   "execution_count": 31,
   "metadata": {},
   "outputs": [],
   "source": [
    "import matplotlib.pyplot as plt\n",
    "from numpy import log10 as nplog10\n",
    "\n",
    "\n",
    "sb, sk, sc, skss, sgamma, srho, salpha = \\\n",
    "    symbols('b k c kss gamma rho alpha')"
   ]
  },
  {
   "cell_type": "code",
   "execution_count": null,
   "metadata": {},
   "outputs": [],
   "source": []
  },
  {
   "cell_type": "code",
   "execution_count": 20,
   "metadata": {},
   "outputs": [],
   "source": [
    "# b:     A dummy variable for equation solving\n",
    "# k:     The stock of capital\n",
    "# c:     Consumption\n",
    "# kss:   The stock of capital in the steady state\n",
    "# gamma: The coefficient of the utility function\n",
    "# rho:   The continuous-time discount rate\n",
    "# alpha: Production elasticity of capital\n",
    "\n",
    "# n indicates the order of the Taylor polynomial. Be aware that Python starts\n",
    "# counting at zero, so the polynomial has n+1 terms\n",
    "n = 5\n",
    "\n"
   ]
  },
  {
   "cell_type": "code",
   "execution_count": 22,
   "metadata": {},
   "outputs": [
    {
     "data": {
      "image/png": "[encoded data removed]",
      "text/latex": [
       "$$a$$"
      ],
      "text/plain": [
       "a"
      ]
     },
     "execution_count": 22,
     "metadata": {},
     "output_type": "execute_result"
    }
   ],
   "source": [
    "sa = MatrixSymbol('a',n+1,1)\n",
    "\n",
    "# a:     Vector of coefficients of the Taylor polynomial\n",
    "sa"
   ]
  },
  {
   "cell_type": "code",
   "execution_count": 23,
   "metadata": {},
   "outputs": [],
   "source": [
    "# Value variables of a, rho, alpha, gamma, and kss:\n",
    "va = zeros(n+1,1)\n",
    "vrho = 0.05\n",
    "valpha = 0.25\n",
    "vgamma = -10\n",
    "vkss = 1\n",
    "\n"
   ]
  },
  {
   "cell_type": "code",
   "execution_count": 24,
   "metadata": {},
   "outputs": [],
   "source": [
    "\n",
    "# Production function\n",
    "sf = (vrho/valpha)*sk**valpha"
   ]
  },
  {
   "cell_type": "code",
   "execution_count": 25,
   "metadata": {},
   "outputs": [],
   "source": [
    "\n",
    "# The utility function is not used as such in the code, but it is in the\n",
    "# Bellman equation implicitly. See the Bellman Equation below, and the\n",
    "# notes document.\n",
    "\n",
    "# Construct Taylor polynomial for consumption function\n",
    "# The consumption function expresses optimal consumption as a function of\n",
    "# capital stock\n",
    "sctay = sum([sa[i,0]*(sk-skss)**i/factorial(i) for i in range(n+1)])\n"
   ]
  },
  {
   "cell_type": "code",
   "execution_count": 27,
   "metadata": {},
   "outputs": [],
   "source": [
    "\n",
    "# Construct Bellman Equation\n",
    "# See Judd and Guu and notes document for derivation\n",
    "sBellman = -vrho*sctay - \\\n",
    "    vgamma*sctay*sctay.diff(sk)+\\\n",
    "    vgamma*sf*sctay.diff(sk)+\\\n",
    "    sctay*sf.diff(sk)"
   ]
  },
  {
   "cell_type": "code",
   "execution_count": 28,
   "metadata": {},
   "outputs": [
    {
     "data": {
      "image/png": "[encoded data removed]",
      "text/latex": [
       "$$\\frac{0.05}{k^{0.75}} \\left(\\frac{a_{5, 0}}{120} \\left(k - kss\\right)^{5} + \\frac{a_{4, 0}}{24} \\left(k - kss\\right)^{4} + \\frac{a_{3, 0}}{6} \\left(k - kss\\right)^{3} + \\frac{a_{2, 0}}{2} \\left(k - kss\\right)^{2} + \\left(k - kss\\right) a_{1, 0} + a_{0, 0}\\right) - 2.0 k^{0.25} \\left(\\frac{a_{5, 0}}{24} \\left(k - kss\\right)^{4} + \\frac{a_{4, 0}}{6} \\left(k - kss\\right)^{3} + \\frac{a_{3, 0}}{2} \\left(k - kss\\right)^{2} + \\frac{a_{2, 0}}{2} \\left(2 k - 2 kss\\right) + a_{1, 0}\\right) - 0.000416666666666667 \\left(k - kss\\right)^{5} a_{5, 0} - 0.00208333333333333 \\left(k - kss\\right)^{4} a_{4, 0} - 0.00833333333333333 \\left(k - kss\\right)^{3} a_{3, 0} - 0.025 \\left(k - kss\\right)^{2} a_{2, 0} - 0.05 \\left(k - kss\\right) a_{1, 0} - \\left(\\frac{a_{5, 0}}{24} \\left(k - kss\\right)^{4} + \\frac{a_{4, 0}}{6} \\left(k - kss\\right)^{3} + \\frac{a_{3, 0}}{2} \\left(k - kss\\right)^{2} + \\frac{a_{2, 0}}{2} \\left(2 k - 2 kss\\right) + a_{1, 0}\\right) \\left(- \\frac{a_{5, 0}}{12} \\left(k - kss\\right)^{5} - \\frac{5}{12} \\left(k - kss\\right)^{4} a_{4, 0} - \\frac{5}{3} \\left(k - kss\\right)^{3} a_{3, 0} - 5 \\left(k - kss\\right)^{2} a_{2, 0} - 10 \\left(k - kss\\right) a_{1, 0} - 10 a_{0, 0}\\right) - 0.05 a_{0, 0}$$"
      ],
      "text/plain": [
       "            ⎛         5                4                3                2    \n",
       "      -0.75 ⎜(k - kss) ⋅a₅₀   (k - kss) ⋅a₄₀   (k - kss) ⋅a₃₀   (k - kss) ⋅a₂₀\n",
       "0.05⋅k     ⋅⎜────────────── + ────────────── + ────────────── + ──────────────\n",
       "            ⎝     120               24               6                2       \n",
       "\n",
       "                      ⎞             ⎛         4                3              \n",
       "                      ⎟        0.25 ⎜(k - kss) ⋅a₅₀   (k - kss) ⋅a₄₀   (k - ks\n",
       " + (k - kss)⋅a₁₀ + a₀₀⎟ - 2.0⋅k    ⋅⎜────────────── + ────────────── + ───────\n",
       "                      ⎠             ⎝      24               6                2\n",
       "\n",
       "  2                              ⎞                                            \n",
       "s) ⋅a₃₀   (2⋅k - 2⋅kss)⋅a₂₀      ⎟                                 5          \n",
       "─────── + ───────────────── + a₁₀⎟ - 0.000416666666666667⋅(k - kss) ⋅a₅₀ - 0.0\n",
       "                  2              ⎠                                            \n",
       "\n",
       "                                                                              \n",
       "                          4                                    3              \n",
       "0208333333333333⋅(k - kss) ⋅a₄₀ - 0.00833333333333333⋅(k - kss) ⋅a₃₀ - 0.025⋅(\n",
       "                                                                              \n",
       "\n",
       "                                     ⎛         4                3             \n",
       "        2                            ⎜(k - kss) ⋅a₅₀   (k - kss) ⋅a₄₀   (k - k\n",
       "k - kss) ⋅a₂₀ - 0.05⋅(k - kss)⋅a₁₀ - ⎜────────────── + ────────────── + ──────\n",
       "                                     ⎝      24               6                \n",
       "\n",
       "   2                              ⎞ ⎛           5                  4          \n",
       "ss) ⋅a₃₀   (2⋅k - 2⋅kss)⋅a₂₀      ⎟ ⎜  (k - kss) ⋅a₅₀   5⋅(k - kss) ⋅a₄₀   5⋅(\n",
       "──────── + ───────────────── + a₁₀⎟⋅⎜- ────────────── - ──────────────── - ───\n",
       "2                  2              ⎠ ⎝        12                12             \n",
       "\n",
       "        3                                                   ⎞           \n",
       "k - kss) ⋅a₃₀              2                                ⎟           \n",
       "───────────── - 5⋅(k - kss) ⋅a₂₀ - 10⋅(k - kss)⋅a₁₀ - 10⋅a₀₀⎟ - 0.05⋅a₀₀\n",
       "    3                                                       ⎠           "
      ]
     },
     "execution_count": 28,
     "metadata": {},
     "output_type": "execute_result"
    }
   ],
   "source": [
    "sBellman"
   ]
  },
  {
   "cell_type": "code",
   "execution_count": null,
   "metadata": {},
   "outputs": [],
   "source": []
  }
 ],
 "metadata": {
  "kernelspec": {
   "display_name": "Python 3",
   "language": "python",
   "name": "python3"
  },
  "language_info": {
   "codemirror_mode": {
    "name": "ipython",
    "version": 3
   },
   "file_extension": ".py",
   "mimetype": "text/x-python",
   "name": "python",
   "nbconvert_exporter": "python",
   "pygments_lexer": "ipython3",
   "version": "3.6.5"
  }
 },
 "nbformat": 4,
 "nbformat_minor": 2
}
